{
  "nbformat": 4,
  "nbformat_minor": 0,
  "metadata": {
    "colab": {
      "provenance": [],
      "authorship_tag": "ABX9TyPiP+lX1XS6ncjZ6Y+pix6d"
    },
    "kernelspec": {
      "name": "python3",
      "display_name": "Python 3"
    },
    "language_info": {
      "name": "python"
    }
  },
  "cells": [
    {
      "cell_type": "code",
      "source": [
        "!pip install scikit-multiflow"
      ],
      "metadata": {
        "id": "3YNvCiyM1J6p"
      },
      "execution_count": null,
      "outputs": []
    },
    {
      "cell_type": "code",
      "source": [
        "import numpy as np\n",
        "\n",
        "np.float = np\n",
        "np.int = np"
      ],
      "metadata": {
        "id": "jZp49akG1g_Q"
      },
      "execution_count": 3,
      "outputs": []
    },
    {
      "cell_type": "code",
      "source": [
        "import numpy as np\n",
        "from skmultiflow.data import SEAGenerator\n",
        "from skmultiflow.meta import AccuracyWeightedEnsembleClassifier as AWE\n",
        "from sklearn.metrics import accuracy_score, precision_score, recall_score, f1_score\n",
        "\n",
        "# Configurações\n",
        "window_size = 1000\n",
        "max_iterations = 10\n",
        "\n",
        "# Inicializar o stream de dados\n",
        "stream = SEAGenerator()\n",
        "\n",
        "# Pré-treinamento\n",
        "pre_train_size = 100\n",
        "X_pre_train, y_pre_train = stream.next_sample(pre_train_size)\n",
        "\n",
        "# Inicializar o modelo\n",
        "model = AWE()\n",
        "model.fit(X_pre_train, y_pre_train)\n",
        "\n",
        "# Inicializar listas para armazenar os resultados das métricas\n",
        "accuracy_list = []\n",
        "precision_list = []\n",
        "recall_list = []\n",
        "f1_list = []\n",
        "\n",
        "# Janela deslizante com avaliação prequential\n",
        "for i in range(max_iterations):\n",
        "    # Obter um novo lote de dados\n",
        "    X_batch, y_batch = stream.next_sample(window_size)  # novo lote\n",
        "\n",
        "    # Atualizar o modelo com os novos dados\n",
        "    model.fit(X_batch, y_batch)\n",
        "\n",
        "    # Obter uma nova janela de dados para validação\n",
        "    X_validation, y_validation = stream.next_sample(window_size)\n",
        "\n",
        "    # Fazer previsões e calcular as métricas\n",
        "    y_pred = model.predict(X_validation)\n",
        "\n",
        "    accuracy = accuracy_score(y_validation, y_pred)\n",
        "    precision = precision_score(y_validation, y_pred, average='weighted')\n",
        "    recall = recall_score(y_validation, y_pred, average='weighted')\n",
        "    f1 = f1_score(y_validation, y_pred, average='weighted')\n",
        "\n",
        "    # Armazenar os resultados das métricas\n",
        "    accuracy_list.append(accuracy if not np.isnan(accuracy) else 0)\n",
        "    precision_list.append(precision)\n",
        "    recall_list.append(recall)\n",
        "    f1_list.append(f1)\n",
        "\n",
        "    print(f\"Iteração {i+1}/{max_iterations}\")\n",
        "    print(f\"Acurácia: {accuracy}\")\n",
        "    print(f\"Métricas acumuladas até agora: {accuracy_list}\")\n",
        "\n",
        "# Calcular as médias das métricas\n",
        "mean_accuracy = np.mean(accuracy_list)\n",
        "mean_precision = np.mean(precision_list)\n",
        "mean_recall = np.mean(recall_list)\n",
        "mean_f1 = np.mean(f1_list)\n",
        "\n",
        "# Exibir os resultados\n",
        "print(\"Médias das Métricas de Avaliação:\")\n",
        "print(f\"Acurácia: {mean_accuracy}\")\n",
        "print(f\"Precisão: {mean_precision}\")\n",
        "print(f\"Recall: {mean_recall}\")\n",
        "print(f\"F1-Score: {mean_f1}\")\n"
      ],
      "metadata": {
        "colab": {
          "base_uri": "https://localhost:8080/"
        },
        "id": "yWb88UXSDcdU",
        "outputId": "ece29eca-7832-4b1b-bce6-890402f4ca05"
      },
      "execution_count": 4,
      "outputs": [
        {
          "output_type": "stream",
          "name": "stderr",
          "text": [
            "/usr/local/lib/python3.10/dist-packages/sklearn/metrics/_classification.py:1344: UndefinedMetricWarning: Precision is ill-defined and being set to 0.0 in labels with no predicted samples. Use `zero_division` parameter to control this behavior.\n",
            "  _warn_prf(average, modifier, msg_start, len(result))\n"
          ]
        },
        {
          "output_type": "stream",
          "name": "stdout",
          "text": [
            "Iteração 1/10\n",
            "Acurácia: 0.702\n",
            "Métricas acumuladas até agora: [0.702]\n"
          ]
        },
        {
          "output_type": "stream",
          "name": "stderr",
          "text": [
            "/usr/local/lib/python3.10/dist-packages/sklearn/metrics/_classification.py:1344: UndefinedMetricWarning: Precision is ill-defined and being set to 0.0 in labels with no predicted samples. Use `zero_division` parameter to control this behavior.\n",
            "  _warn_prf(average, modifier, msg_start, len(result))\n"
          ]
        },
        {
          "output_type": "stream",
          "name": "stdout",
          "text": [
            "Iteração 2/10\n",
            "Acurácia: 0.694\n",
            "Métricas acumuladas até agora: [0.702, 0.694]\n"
          ]
        },
        {
          "output_type": "stream",
          "name": "stderr",
          "text": [
            "/usr/local/lib/python3.10/dist-packages/sklearn/metrics/_classification.py:1344: UndefinedMetricWarning: Precision is ill-defined and being set to 0.0 in labels with no predicted samples. Use `zero_division` parameter to control this behavior.\n",
            "  _warn_prf(average, modifier, msg_start, len(result))\n"
          ]
        },
        {
          "output_type": "stream",
          "name": "stdout",
          "text": [
            "Iteração 3/10\n",
            "Acurácia: 0.714\n",
            "Métricas acumuladas até agora: [0.702, 0.694, 0.714]\n"
          ]
        },
        {
          "output_type": "stream",
          "name": "stderr",
          "text": [
            "/usr/local/lib/python3.10/dist-packages/sklearn/metrics/_classification.py:1344: UndefinedMetricWarning: Precision is ill-defined and being set to 0.0 in labels with no predicted samples. Use `zero_division` parameter to control this behavior.\n",
            "  _warn_prf(average, modifier, msg_start, len(result))\n"
          ]
        },
        {
          "output_type": "stream",
          "name": "stdout",
          "text": [
            "Iteração 4/10\n",
            "Acurácia: 0.694\n",
            "Métricas acumuladas até agora: [0.702, 0.694, 0.714, 0.694]\n"
          ]
        },
        {
          "output_type": "stream",
          "name": "stderr",
          "text": [
            "/usr/local/lib/python3.10/dist-packages/sklearn/metrics/_classification.py:1344: UndefinedMetricWarning: Precision is ill-defined and being set to 0.0 in labels with no predicted samples. Use `zero_division` parameter to control this behavior.\n",
            "  _warn_prf(average, modifier, msg_start, len(result))\n"
          ]
        },
        {
          "output_type": "stream",
          "name": "stdout",
          "text": [
            "Iteração 5/10\n",
            "Acurácia: 0.686\n",
            "Métricas acumuladas até agora: [0.702, 0.694, 0.714, 0.694, 0.686]\n"
          ]
        },
        {
          "output_type": "stream",
          "name": "stderr",
          "text": [
            "/usr/local/lib/python3.10/dist-packages/sklearn/metrics/_classification.py:1344: UndefinedMetricWarning: Precision is ill-defined and being set to 0.0 in labels with no predicted samples. Use `zero_division` parameter to control this behavior.\n",
            "  _warn_prf(average, modifier, msg_start, len(result))\n"
          ]
        },
        {
          "output_type": "stream",
          "name": "stdout",
          "text": [
            "Iteração 6/10\n",
            "Acurácia: 0.679\n",
            "Métricas acumuladas até agora: [0.702, 0.694, 0.714, 0.694, 0.686, 0.679]\n"
          ]
        },
        {
          "output_type": "stream",
          "name": "stderr",
          "text": [
            "/usr/local/lib/python3.10/dist-packages/sklearn/metrics/_classification.py:1344: UndefinedMetricWarning: Precision is ill-defined and being set to 0.0 in labels with no predicted samples. Use `zero_division` parameter to control this behavior.\n",
            "  _warn_prf(average, modifier, msg_start, len(result))\n"
          ]
        },
        {
          "output_type": "stream",
          "name": "stdout",
          "text": [
            "Iteração 7/10\n",
            "Acurácia: 0.686\n",
            "Métricas acumuladas até agora: [0.702, 0.694, 0.714, 0.694, 0.686, 0.679, 0.686]\n"
          ]
        },
        {
          "output_type": "stream",
          "name": "stderr",
          "text": [
            "/usr/local/lib/python3.10/dist-packages/sklearn/metrics/_classification.py:1344: UndefinedMetricWarning: Precision is ill-defined and being set to 0.0 in labels with no predicted samples. Use `zero_division` parameter to control this behavior.\n",
            "  _warn_prf(average, modifier, msg_start, len(result))\n"
          ]
        },
        {
          "output_type": "stream",
          "name": "stdout",
          "text": [
            "Iteração 8/10\n",
            "Acurácia: 0.657\n",
            "Métricas acumuladas até agora: [0.702, 0.694, 0.714, 0.694, 0.686, 0.679, 0.686, 0.657]\n"
          ]
        },
        {
          "output_type": "stream",
          "name": "stderr",
          "text": [
            "/usr/local/lib/python3.10/dist-packages/sklearn/metrics/_classification.py:1344: UndefinedMetricWarning: Precision is ill-defined and being set to 0.0 in labels with no predicted samples. Use `zero_division` parameter to control this behavior.\n",
            "  _warn_prf(average, modifier, msg_start, len(result))\n"
          ]
        },
        {
          "output_type": "stream",
          "name": "stdout",
          "text": [
            "Iteração 9/10\n",
            "Acurácia: 0.655\n",
            "Métricas acumuladas até agora: [0.702, 0.694, 0.714, 0.694, 0.686, 0.679, 0.686, 0.657, 0.655]\n",
            "Iteração 10/10\n",
            "Acurácia: 0.683\n",
            "Métricas acumuladas até agora: [0.702, 0.694, 0.714, 0.694, 0.686, 0.679, 0.686, 0.657, 0.655, 0.683]\n",
            "Médias das Métricas de Avaliação:\n",
            "Acurácia: 0.685\n",
            "Precisão: 0.4695268\n",
            "Recall: 0.685\n",
            "F1-Score: 0.5570702781323821\n"
          ]
        },
        {
          "output_type": "stream",
          "name": "stderr",
          "text": [
            "/usr/local/lib/python3.10/dist-packages/sklearn/metrics/_classification.py:1344: UndefinedMetricWarning: Precision is ill-defined and being set to 0.0 in labels with no predicted samples. Use `zero_division` parameter to control this behavior.\n",
            "  _warn_prf(average, modifier, msg_start, len(result))\n"
          ]
        }
      ]
    },
    {
      "cell_type": "code",
      "source": [],
      "metadata": {
        "id": "vkJvj4cosC6h"
      },
      "execution_count": null,
      "outputs": []
    }
  ]
}